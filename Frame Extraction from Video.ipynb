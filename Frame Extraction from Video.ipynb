{
  "nbformat": 4,
  "nbformat_minor": 0,
  "metadata": {
    "colab": {
      "provenance": [],
      "mount_file_id": "1je4lSN1-QovhT2OXQY83d1kUeUl0mQWg",
      "authorship_tag": "ABX9TyMwbgS3fQltJFNjEFFB4yNN",
      "include_colab_link": true
    },
    "kernelspec": {
      "name": "python3",
      "display_name": "Python 3"
    },
    "language_info": {
      "name": "python"
    }
  },
  "cells": [
    {
      "cell_type": "markdown",
      "metadata": {
        "id": "view-in-github",
        "colab_type": "text"
      },
      "source": [
        "<a href=\"https://colab.research.google.com/github/Aditya-B-007/Chatbot/blob/main/Frame%20Extraction%20from%20Video.ipynb\" target=\"_parent\"><img src=\"https://colab.research.google.com/assets/colab-badge.svg\" alt=\"Open In Colab\"/></a>"
      ]
    },
    {
      "cell_type": "code",
      "execution_count": null,
      "metadata": {
        "colab": {
          "base_uri": "https://localhost:8080/"
        },
        "id": "aJeNi6ub-Q5E",
        "outputId": "aa248b4a-b865-41f1-9c0d-359e0d8163d3"
      },
      "outputs": [
        {
          "output_type": "stream",
          "name": "stdout",
          "text": [
            "Requirement already satisfied: opencv-python in /usr/local/lib/python3.10/dist-packages (4.8.0.76)\n",
            "Requirement already satisfied: numpy>=1.21.2 in /usr/local/lib/python3.10/dist-packages (from opencv-python) (1.23.5)\n"
          ]
        }
      ],
      "source": [
        "!pip install opencv-python"
      ]
    },
    {
      "cell_type": "code",
      "source": [
        "import cv2\n",
        "#path of video\n",
        "video=cv2.VideoCapture(\"/content/Sagara, Karnataka.mp4\")\n",
        "image=video.read()#one line command for extracting all the frames\n",
        "print(image)"
      ],
      "metadata": {
        "colab": {
          "base_uri": "https://localhost:8080/"
        },
        "id": "9U-PigL-_Bar",
        "outputId": "245b484e-d5af-4415-8f54-8207c9f67b20"
      },
      "execution_count": 10,
      "outputs": [
        {
          "output_type": "stream",
          "name": "stdout",
          "text": [
            "(True, array([[[ 33,  37,  46],\n",
            "        [ 33,  37,  46],\n",
            "        [ 33,  37,  46],\n",
            "        ...,\n",
            "        [128, 133, 185],\n",
            "        [128, 133, 185],\n",
            "        [128, 133, 185]],\n",
            "\n",
            "       [[ 37,  41,  50],\n",
            "        [ 37,  41,  50],\n",
            "        [ 37,  41,  50],\n",
            "        ...,\n",
            "        [128, 133, 185],\n",
            "        [128, 133, 185],\n",
            "        [128, 133, 185]],\n",
            "\n",
            "       [[ 66,  70,  79],\n",
            "        [ 66,  70,  79],\n",
            "        [ 66,  70,  79],\n",
            "        ...,\n",
            "        [128, 133, 185],\n",
            "        [128, 133, 185],\n",
            "        [128, 133, 185]],\n",
            "\n",
            "       ...,\n",
            "\n",
            "       [[207, 213, 242],\n",
            "        [207, 213, 242],\n",
            "        [208, 214, 243],\n",
            "        ...,\n",
            "        [214, 220, 244],\n",
            "        [214, 220, 244],\n",
            "        [214, 220, 244]],\n",
            "\n",
            "       [[207, 213, 242],\n",
            "        [207, 213, 242],\n",
            "        [208, 214, 243],\n",
            "        ...,\n",
            "        [212, 218, 242],\n",
            "        [212, 218, 242],\n",
            "        [212, 218, 242]],\n",
            "\n",
            "       [[207, 213, 242],\n",
            "        [207, 213, 242],\n",
            "        [208, 214, 243],\n",
            "        ...,\n",
            "        [211, 217, 241],\n",
            "        [211, 217, 241],\n",
            "        [211, 217, 241]]], dtype=uint8))\n"
          ]
        }
      ]
    },
    {
      "cell_type": "code",
      "source": [
        "import cv2\n",
        "video = cv2.VideoCapture(\"/content/Sagara, Karnataka.mp4\")\n",
        "count = 0\n",
        "if not video.isOpened():\n",
        "    print(\"Error: Unable to open the video file.\")\n",
        "else:\n",
        "    while True:\n",
        "        ret, frame = video.read()\n",
        "        if not ret:\n",
        "            break\n",
        "        cv2.imwrite(f\"/content/sample_data/Images/{count}.jpeg\", frame)\n",
        "        count += 1\n",
        "    video.release()\n",
        "    print(f\"{count} frames saved successfully.\")\n",
        "\n",
        "print(\"Video frames saved. Done!\")\n"
      ],
      "metadata": {
        "id": "ve1JFFPJEYbi",
        "colab": {
          "base_uri": "https://localhost:8080/"
        },
        "outputId": "a4103297-ddc9-4312-aa91-d9ea32582f50"
      },
      "execution_count": 13,
      "outputs": [
        {
          "output_type": "stream",
          "name": "stdout",
          "text": [
            "3713 frames saved successfully.\n",
            "Video frames saved. Done!\n"
          ]
        }
      ]
    },
    {
      "cell_type": "code",
      "source": [],
      "metadata": {
        "id": "f1RhKK5oMGS9"
      },
      "execution_count": null,
      "outputs": []
    }
  ]
}